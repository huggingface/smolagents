{
 "cells": [
  {
   "cell_type": "code",
   "execution_count": 1,
   "metadata": {},
   "outputs": [],
   "source": [
    "#!pip install -e .. datasets sympy numpy matplotlib seaborn -q  # Install dev version of smolagents + some packages\n",
    "#!export HF_TOKEN="
   ]
  },
  {
   "cell_type": "code",
   "execution_count": 2,
   "metadata": {},
   "outputs": [],
   "source": [
    "from datetime import datetime\n",
    "\n",
    "\n",
    "# Benchmark date\n",
    "# - set a concrete date:\n",
    "DATE = \"2025-07-17\"\n",
    "# - or use default: today\n",
    "# DATE = None\n",
    "# DATE = DATE or datetime.date.today().isoformat()\n",
    "\n",
    "# Evaluation dataset\n",
    "# - the dataset is gated, so you must first visit its page to request access: https://huggingface.co/datasets/smolagents-benchmark/benchmark-v1\n",
    "EVAL_DATASET = \"smolagents/benchmark-v1\"\n",
    "\n",
    "# Answers dataset: it must be a gated dataset; required to score the answers\n",
    "ANSWERS_DATASET = \"smolagents/answers\"\n",
    "# Whether to push the answers dataset to the Hub\n",
    "PUSH_ANSWERS_DATASET_TO_HUB = True\n",
    "\n",
    "# Results dataset\n",
    "RESULTS_DATASET = \"smolagents/results\"\n",
    "# Whether to push the results dataset to the Hub\n",
    "PUSH_RESULTS_DATASET_TO_HUB = False"
   ]
  },
  {
   "cell_type": "markdown",
   "metadata": {},
   "source": [
    "## Constants and utilities/tools"
   ]
  },
  {
   "cell_type": "code",
   "execution_count": 3,
   "metadata": {},
   "outputs": [],
   "source": [
    "import re\n",
    "import string\n",
    "import warnings\n",
    "from concurrent.futures import ThreadPoolExecutor, as_completed\n",
    "\n",
    "import numpy as np\n",
    "from tqdm import tqdm\n",
    "\n",
    "\n",
    "def normalize_number_str(number_str: str) -> float:\n",
    "    # we replace these common units and commas to allow\n",
    "    # conversion to float\n",
    "    for char in [\"$\", \"%\", \",\"]:\n",
    "        number_str = number_str.replace(char, \"\")\n",
    "    try:\n",
    "        return float(number_str)\n",
    "    except ValueError:\n",
    "        return float(\"inf\")\n",
    "\n",
    "\n",
    "def split_string(\n",
    "    s: str,\n",
    "    char_list: list[str] = [\",\", \";\"],\n",
    ") -> list[str]:\n",
    "    pattern = f\"[{''.join(char_list)}]\"\n",
    "    return re.split(pattern, s)\n",
    "\n",
    "\n",
    "def is_float(element: any) -> bool:\n",
    "    try:\n",
    "        float(element)\n",
    "        return True\n",
    "    except ValueError:\n",
    "        return False\n",
    "\n",
    "\n",
    "def normalize_str(input_str, remove_punct=True) -> str:\n",
    "    \"\"\"\n",
    "    Normalize a string by:\n",
    "    - Removing all white spaces\n",
    "    - Optionally removing punctuation (if remove_punct is True)\n",
    "    - Converting to lowercase\n",
    "    Parameters:\n",
    "    - input_str: str, the string to normalize\n",
    "    - remove_punct: bool, whether to remove punctuation (default: True)\n",
    "    Returns:\n",
    "    - str, the normalized string\n",
    "    \"\"\"\n",
    "    # Remove all white spaces. Required e.g for seagull vs. sea gull\n",
    "    no_spaces = re.sub(r\"\\s\", \"\", input_str)\n",
    "\n",
    "    # Remove punctuation, if specified.\n",
    "    if remove_punct:\n",
    "        translator = str.maketrans(\"\", \"\", string.punctuation)\n",
    "        return no_spaces.lower().translate(translator)\n",
    "    else:\n",
    "        return no_spaces.lower()\n",
    "\n",
    "\n",
    "def extract_numbers(text: str) -> list[str]:\n",
    "    \"\"\"This pattern matches:\n",
    "    - Optional negative sign\n",
    "    - Numbers with optional comma thousand separators\n",
    "    - Optional decimal points with decimal numbers\n",
    "    \"\"\"\n",
    "    pattern = r\"-?(?:\\d{1,3}(?:,\\d{3})+|\\d+)(?:\\.\\d+)?\"\n",
    "\n",
    "    return [el.replace(\",\", \"\") for el in re.findall(pattern, text)]\n",
    "\n",
    "\n",
    "def get_question_score_gaia(\n",
    "    model_answer: str,\n",
    "    ground_truth: str,\n",
    ") -> bool:\n",
    "    \"\"\"Scoring function used to score functions from the GAIA benchmark\"\"\"\n",
    "    if is_float(ground_truth):\n",
    "        normalized_answer = normalize_number_str(str(model_answer))\n",
    "        return normalized_answer == float(ground_truth)\n",
    "\n",
    "    elif any(char in ground_truth for char in [\",\", \";\"]):  # if gt is a list\n",
    "        # question with the fish: normalization removes punct\n",
    "        gt_elems = split_string(ground_truth)\n",
    "        ma_elems = split_string(model_answer)\n",
    "\n",
    "        if len(gt_elems) != len(ma_elems):  # check length is the same\n",
    "            warnings.warn(\"Answer lists have different lengths, returning False.\", UserWarning)\n",
    "            return False\n",
    "\n",
    "        comparisons = []\n",
    "        for ma_elem, gt_elem in zip(ma_elems, gt_elems):  # compare each element as float or str\n",
    "            if is_float(gt_elem):\n",
    "                normalized_ma_elem = normalize_number_str(ma_elem)\n",
    "                comparisons.append(normalized_ma_elem == float(gt_elem))\n",
    "            else:\n",
    "                # we do not remove punct since comparisons can include punct\n",
    "                comparisons.append(\n",
    "                    normalize_str(ma_elem, remove_punct=False) == normalize_str(gt_elem, remove_punct=False)\n",
    "                )\n",
    "        return all(comparisons)\n",
    "\n",
    "    else:  # if gt is a str\n",
    "        return normalize_str(model_answer) == normalize_str(ground_truth)\n",
    "\n",
    "\n",
    "def get_correct(row):\n",
    "    if row[\"source\"] == \"MATH\":  # Checks the last number in answer\n",
    "        numbers_answer = extract_numbers(str(row[\"answer\"]))\n",
    "        if len(numbers_answer) == 0:\n",
    "            return False\n",
    "        return np.isclose(float(numbers_answer[-1]), float(row[\"true_answer\"]), rtol=1e-5, atol=1e-7)\n",
    "    else:\n",
    "        return get_question_score_gaia(str(row[\"answer\"]), str(row[\"true_answer\"]))\n",
    "\n",
    "\n",
    "def score_answers_subset(answers_dataset, answers_subset):\n",
    "    try:\n",
    "        print(answers_dataset, answers_subset)\n",
    "        *model_id, action_type, task = answers_subset.split(\"__\")\n",
    "        model_id = \"/\".join(model_id)\n",
    "        ds = datasets.load_dataset(answers_dataset, answers_subset, split=\"test\")\n",
    "        df = ds.to_pandas()\n",
    "        df[\"correct\"] = df.apply(get_correct, axis=1)\n",
    "        assert df[\"correct\"].notnull().sum() > 30, \"Missing answers\"\n",
    "        acc = df[\"correct\"].mean().item()\n",
    "        result = df.loc[0, [\"model_id\", \"agent_action_type\", \"source\"]].to_dict()\n",
    "        result[\"acc\"] = acc\n",
    "        return result\n",
    "    except Exception as e:\n",
    "        print(f\"Error with {answers_subset}: {e}\")\n",
    "        return None\n",
    "\n",
    "\n",
    "def score_answers(\n",
    "    answers_subsets,\n",
    "    answers_dataset=ANSWERS_DATASET,\n",
    "    date=DATE,\n",
    "    push_to_hub_dataset=RESULTS_DATASET if PUSH_RESULTS_DATASET_TO_HUB else None,\n",
    "    set_default=True,\n",
    "):\n",
    "    \"\"\"\n",
    "    Score answers from the given dataset subsets.\n",
    "\n",
    "    Parameters:\n",
    "        answers_subsets: List of dataset subsets to score\n",
    "        answers_dataset: Dataset containing the answers\n",
    "        date: Date to use for the config name\n",
    "        push_to_hub_dataset: Dataset ID to push results to, or None to skip pushing\n",
    "        set_default: If True, sets this config as the default config in the Hugging Face Hub dataset.\n",
    "                     This means when users load the dataset without specifying a config,\n",
    "                     this version will be loaded by default.\n",
    "    \"\"\"\n",
    "    if not answers_dataset:\n",
    "        raise ValueError(\"Pass 'answers_dataset' to load the answers from it\")\n",
    "    date = date or datetime.date.today().isoformat()\n",
    "    results = []\n",
    "    with ThreadPoolExecutor(max_workers=16) as exe:\n",
    "        futures = [\n",
    "            exe.submit(score_answers_subset, answers_dataset, answers_subset) for answers_subset in answers_subsets\n",
    "        ]\n",
    "        for f in tqdm(as_completed(futures), total=len(answers_subsets), desc=\"Processing tasks\"):\n",
    "            result = f.result()\n",
    "            if result:\n",
    "                results.append(result)\n",
    "    df = pd.DataFrame(results)\n",
    "\n",
    "    if push_to_hub_dataset:\n",
    "        ds = datasets.Dataset.from_pandas(df)\n",
    "        config = date\n",
    "        ds.push_to_hub(\n",
    "            push_to_hub_dataset, config_name=config, commit_message=f\"Upload {config} results\", create_pr=True\n",
    "        )\n",
    "        # ds.push_to_hub(push_to_hub_dataset, config_name=config, commit_message=f\"Upload {config} results\")\n",
    "    return df"
   ]
  },
  {
   "cell_type": "markdown",
   "metadata": {},
   "source": [
    "## Score answers"
   ]
  },
  {
   "cell_type": "code",
   "execution_count": 4,
   "metadata": {},
   "outputs": [
    {
     "name": "stderr",
     "output_type": "stream",
     "text": [
      "/home/ecca/GitFiles/dec_smolagents/.venv/lib/python3.12/site-packages/tqdm/auto.py:21: TqdmWarning: IProgress not found. Please update jupyter and ipywidgets. See https://ipywidgets.readthedocs.io/en/stable/user_install.html\n",
      "  from .autonotebook import tqdm as notebook_tqdm\n"
     ]
    },
    {
     "name": "stdout",
     "output_type": "stream",
     "text": [
      "Number of answers_subsets 129\n",
      "Example of answers_subset Qwen__QwQ-32B__code__gaia\n",
      "smolagents/answers Qwen__QwQ-32B__code__gaia\n",
      "smolagents/answers Qwen__QwQ-32B__code__math\n",
      "smolagents/answers Qwen__QwQ-32B__code__simpleqa\n",
      "smolagents/answers Qwen__Qwen2.5-72B-Instruct__code__gaia\n",
      "smolagents/answers Qwen__Qwen2.5-72B-Instruct__code__math\n",
      "smolagents/answers Qwen__Qwen2.5-72B-Instruct__code__simpleqa\n",
      "smolagents/answers Qwen__Qwen2.5-72B-Instruct__vanilla__gaia\n",
      "smolagents/answers Qwen__Qwen2.5-72B-Instruct__vanilla__math\n",
      "smolagents/answers Qwen__Qwen2.5-72B-Instruct__vanilla__simpleqa\n",
      "smolagents/answers Qwen__Qwen2.5-7B-Instruct__vanilla__gaia\n",
      "smolagents/answers Qwen__Qwen2.5-7B-Instruct__vanilla__math\n",
      "smolagents/answers Qwen__Qwen2.5-7B-Instruct__vanilla__simpleqa\n",
      "smolagents/answers Qwen__Qwen2.5-Coder-32B-Instruct__code__gaia\n",
      "smolagents/answers Qwen__Qwen2.5-Coder-32B-Instruct__code__math\n",
      "smolagents/answers Qwen__Qwen2.5-Coder-32B-Instruct__code__simpleqa\n",
      "smolagents/answers Qwen__Qwen2.5-Coder-32B-Instruct__tool-calling__gaia\n"
     ]
    },
    {
     "name": "stderr",
     "output_type": "stream",
     "text": [
      "Processing tasks:   1%|          | 1/129 [00:07<16:56,  7.94s/it]/tmp/ipykernel_20358/3316273531.py:86: UserWarning: Answer lists have different lengths, returning False.\n",
      "  warnings.warn(\"Answer lists have different lengths, returning False.\", UserWarning)\n",
      "/tmp/ipykernel_20358/3316273531.py:86: UserWarning: Answer lists have different lengths, returning False.\n",
      "  warnings.warn(\"Answer lists have different lengths, returning False.\", UserWarning)\n",
      "Processing tasks:   4%|▍         | 5/129 [00:08<02:30,  1.21s/it]"
     ]
    },
    {
     "name": "stdout",
     "output_type": "stream",
     "text": [
      "smolagents/answers Qwen__Qwen2.5-Coder-32B-Instruct__tool-calling__math\n",
      "smolagents/answers Qwen__Qwen2.5-Coder-32B-Instruct__tool-calling__simpleqa\n",
      "smolagents/answers Qwen__Qwen2.5-Coder-32B-Instruct__vanilla__gaia\n",
      "smolagents/answers Qwen__Qwen2.5-Coder-32B-Instruct__vanilla__math\n",
      "smolagents/answers Qwen__Qwen2.5-Coder-32B-Instruct__vanilla__simpleqa\n"
     ]
    },
    {
     "name": "stderr",
     "output_type": "stream",
     "text": [
      "/tmp/ipykernel_20358/3316273531.py:86: UserWarning: Answer lists have different lengths, returning False.\n",
      "  warnings.warn(\"Answer lists have different lengths, returning False.\", UserWarning)\n",
      "Processing tasks:   5%|▌         | 7/129 [00:08<01:37,  1.25it/s]/tmp/ipykernel_20358/3316273531.py:86: UserWarning: Answer lists have different lengths, returning False.\n",
      "  warnings.warn(\"Answer lists have different lengths, returning False.\", UserWarning)\n",
      "/tmp/ipykernel_20358/3316273531.py:86: UserWarning: Answer lists have different lengths, returning False.\n",
      "  warnings.warn(\"Answer lists have different lengths, returning False.\", UserWarning)\n",
      "Processing tasks:   8%|▊         | 10/129 [00:08<00:55,  2.14it/s]"
     ]
    },
    {
     "name": "stdout",
     "output_type": "stream",
     "text": [
      "smolagents/answers Qwen__Qwen3-235B-A22B__code__gaia\n",
      "smolagents/answers Qwen__Qwen3-235B-A22B__code__math\n",
      "smolagents/answers Qwen__Qwen3-235B-A22B__code__simpleqa\n",
      "smolagents/answers Qwen__Qwen3-32B__code__gaia\n",
      "smolagents/answers Qwen__Qwen3-32B__code__math\n"
     ]
    },
    {
     "name": "stderr",
     "output_type": "stream",
     "text": [
      "/tmp/ipykernel_20358/3316273531.py:86: UserWarning: Answer lists have different lengths, returning False.\n",
      "  warnings.warn(\"Answer lists have different lengths, returning False.\", UserWarning)\n"
     ]
    },
    {
     "name": "stdout",
     "output_type": "stream",
     "text": [
      "smolagents/answers Qwen__Qwen3-32B__code__simpleqa\n"
     ]
    },
    {
     "name": "stderr",
     "output_type": "stream",
     "text": [
      "Processing tasks:   9%|▉         | 12/129 [00:09<00:56,  2.06it/s]"
     ]
    },
    {
     "name": "stdout",
     "output_type": "stream",
     "text": [
      "smolagents/answers anthropic__claude-3-5-sonnet-latest__code__gaia\n"
     ]
    },
    {
     "name": "stderr",
     "output_type": "stream",
     "text": [
      "Processing tasks:  10%|█         | 13/129 [00:11<01:26,  1.34it/s]/tmp/ipykernel_20358/3316273531.py:86: UserWarning: Answer lists have different lengths, returning False.\n",
      "  warnings.warn(\"Answer lists have different lengths, returning False.\", UserWarning)\n",
      "Processing tasks:  11%|█         | 14/129 [00:11<01:12,  1.59it/s]"
     ]
    },
    {
     "name": "stdout",
     "output_type": "stream",
     "text": [
      "smolagents/answers anthropic__claude-3-5-sonnet-latest__code__math\n",
      "smolagents/answers anthropic__claude-3-5-sonnet-latest__code__simpleqa\n",
      "smolagents/answers anthropic__claude-3-5-sonnet-latest__tool-calling__gaia\n"
     ]
    },
    {
     "name": "stderr",
     "output_type": "stream",
     "text": [
      "/tmp/ipykernel_20358/3316273531.py:86: UserWarning: Answer lists have different lengths, returning False.\n",
      "  warnings.warn(\"Answer lists have different lengths, returning False.\", UserWarning)\n",
      "Processing tasks:  12%|█▏        | 16/129 [00:12<01:00,  1.86it/s]/tmp/ipykernel_20358/3316273531.py:86: UserWarning: Answer lists have different lengths, returning False.\n",
      "  warnings.warn(\"Answer lists have different lengths, returning False.\", UserWarning)\n"
     ]
    },
    {
     "name": "stdout",
     "output_type": "stream",
     "text": [
      "smolagents/answers anthropic__claude-3-5-sonnet-latest__tool-calling__math\n",
      "smolagents/answers anthropic__claude-3-5-sonnet-latest__tool-calling__simpleqa\n",
      "smolagents/answers anthropic__claude-3-5-sonnet-latest__vanilla__gaia\n",
      "smolagents/answers anthropic__claude-3-5-sonnet-latest__vanilla__math\n",
      "smolagents/answers anthropic__claude-3-5-sonnet-latest__vanilla__simpleqa\n",
      "smolagents/answers anthropic__claude-3-7-sonnet-20250219__code__gaia\n"
     ]
    },
    {
     "name": "stderr",
     "output_type": "stream",
     "text": [
      "/tmp/ipykernel_20358/3316273531.py:86: UserWarning: Answer lists have different lengths, returning False.\n",
      "  warnings.warn(\"Answer lists have different lengths, returning False.\", UserWarning)\n",
      "Processing tasks:  17%|█▋        | 22/129 [00:12<00:26,  4.07it/s]"
     ]
    },
    {
     "name": "stdout",
     "output_type": "stream",
     "text": [
      "smolagents/answers anthropic__claude-3-7-sonnet-20250219__code__math\n",
      "smolagents/answers anthropic__claude-3-7-sonnet-20250219__code__simpleqa\n"
     ]
    },
    {
     "name": "stderr",
     "output_type": "stream",
     "text": [
      "Processing tasks:  19%|█▊        | 24/129 [00:15<00:48,  2.18it/s]"
     ]
    },
    {
     "name": "stdout",
     "output_type": "stream",
     "text": [
      "smolagents/answers anthropic__claude-3-7-sonnet__code__gaia\n",
      "smolagents/answers anthropic__claude-3-7-sonnet__code__math\n"
     ]
    },
    {
     "name": "stderr",
     "output_type": "stream",
     "text": [
      "Processing tasks:  20%|██        | 26/129 [00:16<00:49,  2.09it/s]"
     ]
    },
    {
     "name": "stdout",
     "output_type": "stream",
     "text": [
      "smolagents/answers anthropic__claude-3-7-sonnet__code__simpleqa\n",
      "smolagents/answers anthropic__claude-opus-4-20250514__code__gaia\n",
      "smolagents/answers anthropic__claude-opus-4-20250514__code__math\n",
      "smolagents/answers anthropic__claude-opus-4-20250514__code__simpleqa\n",
      "smolagents/answers anthropic__claude-sonnet-4-20250514__code__gaia\n",
      "smolagents/answers anthropic__claude-sonnet-4-20250514__code__math\n"
     ]
    },
    {
     "name": "stderr",
     "output_type": "stream",
     "text": [
      "/tmp/ipykernel_20358/3316273531.py:86: UserWarning: Answer lists have different lengths, returning False.\n",
      "  warnings.warn(\"Answer lists have different lengths, returning False.\", UserWarning)\n",
      "/tmp/ipykernel_20358/3316273531.py:86: UserWarning: Answer lists have different lengths, returning False.\n",
      "  warnings.warn(\"Answer lists have different lengths, returning False.\", UserWarning)\n",
      "Processing tasks:  25%|██▍       | 32/129 [00:16<00:24,  3.92it/s]"
     ]
    },
    {
     "name": "stdout",
     "output_type": "stream",
     "text": [
      "smolagents/answers anthropic__claude-sonnet-4-20250514__code__simpleqa\n"
     ]
    },
    {
     "name": "stderr",
     "output_type": "stream",
     "text": [
      "\n",
      "Generating test split:   0%|          | 0/50 [00:00<?, ? examples/s]\n",
      "Generating test split:   0%|          | 0/32 [00:00<?, ? examples/s]\n",
      "Processing tasks:  26%|██▋       | 34/129 [00:18<00:39,  2.41it/s]"
     ]
    },
    {
     "name": "stdout",
     "output_type": "stream",
     "text": [
      "Error with anthropic__claude-3-7-sonnet__code__math: [{'expected': SplitInfo(name='test', num_bytes=5828160, num_examples=50, shard_lengths=None, dataset_name=None), 'recorded': SplitInfo(name='test', num_bytes=0, num_examples=0, shard_lengths=None, dataset_name='answers')}]\n",
      "smolagents/answers deepseek-ai__DeepSeek-R1-Distill-Qwen-32B__code__gaia\n",
      "Error with anthropic__claude-3-7-sonnet__code__gaia: [{'expected': SplitInfo(name='test', num_bytes=3798372, num_examples=32, shard_lengths=None, dataset_name=None), 'recorded': SplitInfo(name='test', num_bytes=0, num_examples=0, shard_lengths=None, dataset_name='answers')}]\n",
      "smolagents/answers deepseek-ai__DeepSeek-R1-Distill-Qwen-32B__code__math\n",
      "smolagents/answers deepseek-ai__DeepSeek-R1-Distill-Qwen-32B__code__simpleqa\n"
     ]
    },
    {
     "name": "stderr",
     "output_type": "stream",
     "text": [
      "Processing tasks:  28%|██▊       | 36/129 [00:18<00:32,  2.84it/s]"
     ]
    },
    {
     "name": "stdout",
     "output_type": "stream",
     "text": [
      "smolagents/answers deepseek-ai__DeepSeek-R1-Distill-Qwen-32B__tool-calling__gaia\n"
     ]
    },
    {
     "name": "stderr",
     "output_type": "stream",
     "text": [
      "Processing tasks:  29%|██▊       | 37/129 [00:20<00:43,  2.10it/s]"
     ]
    },
    {
     "name": "stdout",
     "output_type": "stream",
     "text": [
      "smolagents/answers deepseek-ai__DeepSeek-R1-Distill-Qwen-32B__tool-calling__math\n"
     ]
    },
    {
     "name": "stderr",
     "output_type": "stream",
     "text": [
      "/tmp/ipykernel_20358/3316273531.py:86: UserWarning: Answer lists have different lengths, returning False.\n",
      "  warnings.warn(\"Answer lists have different lengths, returning False.\", UserWarning)\n",
      "Generating test split:   0%|          | 0/50 [00:00<?, ? examples/s]"
     ]
    },
    {
     "name": "stdout",
     "output_type": "stream",
     "text": [
      "smolagents/answers deepseek-ai__DeepSeek-R1-Distill-Qwen-32B__tool-calling__simpleqa\n"
     ]
    },
    {
     "name": "stderr",
     "output_type": "stream",
     "text": [
      "\n",
      "Processing tasks:  30%|███       | 39/129 [00:20<00:40,  2.23it/s]"
     ]
    },
    {
     "name": "stdout",
     "output_type": "stream",
     "text": [
      "smolagents/answers deepseek-ai__DeepSeek-R1__code__gaia\n",
      "smolagents/answers deepseek-ai__DeepSeek-R1__code__math\n",
      "Error with anthropic__claude-3-7-sonnet__code__simpleqa: [{'expected': SplitInfo(name='test', num_bytes=5770703, num_examples=50, shard_lengths=None, dataset_name=None), 'recorded': SplitInfo(name='test', num_bytes=0, num_examples=0, shard_lengths=None, dataset_name='answers')}]\n",
      "smolagents/answers deepseek-ai__DeepSeek-R1__code__simpleqa\n"
     ]
    },
    {
     "name": "stderr",
     "output_type": "stream",
     "text": [
      "Processing tasks:  33%|███▎      | 42/129 [00:22<00:38,  2.25it/s]"
     ]
    },
    {
     "name": "stdout",
     "output_type": "stream",
     "text": [
      "smolagents/answers deepseek-ai__DeepSeek-R1__tool-calling__gaia\n",
      "smolagents/answers deepseek-ai__DeepSeek-R1__tool-calling__math\n",
      "smolagents/answers deepseek-ai__DeepSeek-R1__tool-calling__simpleqa\n"
     ]
    },
    {
     "name": "stderr",
     "output_type": "stream",
     "text": [
      "Processing tasks:  34%|███▍      | 44/129 [00:22<00:29,  2.88it/s]/tmp/ipykernel_20358/3316273531.py:86: UserWarning: Answer lists have different lengths, returning False.\n",
      "  warnings.warn(\"Answer lists have different lengths, returning False.\", UserWarning)\n",
      "Processing tasks:  35%|███▍      | 45/129 [00:22<00:28,  2.96it/s]"
     ]
    },
    {
     "name": "stdout",
     "output_type": "stream",
     "text": [
      "smolagents/answers gpt-4.5-preview__code__gaia\n",
      "smolagents/answers gpt-4.5-preview__code__math\n"
     ]
    },
    {
     "name": "stderr",
     "output_type": "stream",
     "text": [
      "Processing tasks:  37%|███▋      | 48/129 [00:24<00:35,  2.28it/s]"
     ]
    },
    {
     "name": "stdout",
     "output_type": "stream",
     "text": [
      "smolagents/answers gpt-4.5-preview__code__simpleqa\n",
      "smolagents/answers gpt-4.5-preview__vanilla__gaia\n",
      "smolagents/answers gpt-4.5-preview__vanilla__math\n",
      "smolagents/answers gpt-4.5-preview__vanilla__simpleqa\n"
     ]
    },
    {
     "name": "stderr",
     "output_type": "stream",
     "text": [
      "\n",
      "Generating test split:   0%|          | 0/50 [00:00<?, ? examples/s]\n",
      "Generating test split:   0%|          | 0/50 [00:00<?, ? examples/s]\n",
      "Processing tasks:  40%|███▉      | 51/129 [00:26<00:37,  2.10it/s]"
     ]
    },
    {
     "name": "stdout",
     "output_type": "stream",
     "text": [
      "Error with deepseek-ai__DeepSeek-R1__tool-calling__math: [{'expected': SplitInfo(name='test', num_bytes=4380804, num_examples=50, shard_lengths=None, dataset_name=None), 'recorded': SplitInfo(name='test', num_bytes=0, num_examples=0, shard_lengths=None, dataset_name='answers')}]\n",
      "smolagents/answers meta-llama__Llama-3.1-70B-Instruct__code__gaia\n",
      "Error with deepseek-ai__DeepSeek-R1__tool-calling__simpleqa: [{'expected': SplitInfo(name='test', num_bytes=4328100, num_examples=50, shard_lengths=None, dataset_name=None), 'recorded': SplitInfo(name='test', num_bytes=0, num_examples=0, shard_lengths=None, dataset_name='answers')}]\n",
      "smolagents/answers meta-llama__Llama-3.1-70B-Instruct__code__math\n",
      "smolagents/answers meta-llama__Llama-3.1-70B-Instruct__code__simpleqa\n"
     ]
    },
    {
     "name": "stderr",
     "output_type": "stream",
     "text": [
      "Processing tasks:  42%|████▏     | 54/129 [00:26<00:23,  3.13it/s]"
     ]
    },
    {
     "name": "stdout",
     "output_type": "stream",
     "text": [
      "smolagents/answers meta-llama__Llama-3.1-70B-Instruct__tool-calling__gaia\n"
     ]
    },
    {
     "name": "stderr",
     "output_type": "stream",
     "text": [
      "Processing tasks:  43%|████▎     | 55/129 [00:28<00:38,  1.94it/s]"
     ]
    },
    {
     "name": "stdout",
     "output_type": "stream",
     "text": [
      "smolagents/answers meta-llama__Llama-3.1-70B-Instruct__tool-calling__math\n",
      "smolagents/answers meta-llama__Llama-3.1-70B-Instruct__tool-calling__simpleqa\n",
      "smolagents/answers meta-llama__Llama-3.1-8B-Instruct__code__gaia\n",
      "smolagents/answers meta-llama__Llama-3.1-8B-Instruct__code__math\n"
     ]
    },
    {
     "name": "stderr",
     "output_type": "stream",
     "text": [
      "/tmp/ipykernel_20358/3316273531.py:86: UserWarning: Answer lists have different lengths, returning False.\n",
      "  warnings.warn(\"Answer lists have different lengths, returning False.\", UserWarning)\n",
      "Processing tasks:  46%|████▌     | 59/129 [00:29<00:30,  2.27it/s]/tmp/ipykernel_20358/3316273531.py:86: UserWarning: Answer lists have different lengths, returning False.\n",
      "  warnings.warn(\"Answer lists have different lengths, returning False.\", UserWarning)\n",
      "/tmp/ipykernel_20358/3316273531.py:86: UserWarning: Answer lists have different lengths, returning False.\n",
      "  warnings.warn(\"Answer lists have different lengths, returning False.\", UserWarning)\n",
      "/tmp/ipykernel_20358/3316273531.py:86: UserWarning: Answer lists have different lengths, returning False.\n",
      "  warnings.warn(\"Answer lists have different lengths, returning False.\", UserWarning)\n",
      "Processing tasks:  48%|████▊     | 62/129 [00:29<00:20,  3.26it/s]"
     ]
    },
    {
     "name": "stdout",
     "output_type": "stream",
     "text": [
      "smolagents/answers meta-llama__Llama-3.1-8B-Instruct__code__simpleqa\n",
      "smolagents/answers meta-llama__Llama-3.1-8B-Instruct__tool-calling__gaia\n",
      "smolagents/answers meta-llama__Llama-3.1-8B-Instruct__tool-calling__math\n",
      "smolagents/answers meta-llama__Llama-3.1-8B-Instruct__tool-calling__simpleqa\n"
     ]
    },
    {
     "name": "stderr",
     "output_type": "stream",
     "text": [
      "/tmp/ipykernel_20358/3316273531.py:86: UserWarning: Answer lists have different lengths, returning False.\n",
      "  warnings.warn(\"Answer lists have different lengths, returning False.\", UserWarning)\n"
     ]
    },
    {
     "name": "stdout",
     "output_type": "stream",
     "text": [
      "smolagents/answers meta-llama__Llama-3.1-8B-Instruct__vanilla__gaia\n"
     ]
    },
    {
     "name": "stderr",
     "output_type": "stream",
     "text": [
      "Processing tasks:  50%|████▉     | 64/129 [00:31<00:31,  2.08it/s]"
     ]
    },
    {
     "name": "stdout",
     "output_type": "stream",
     "text": [
      "smolagents/answers meta-llama__Llama-3.1-8B-Instruct__vanilla__math\n"
     ]
    },
    {
     "name": "stderr",
     "output_type": "stream",
     "text": [
      "Processing tasks:  50%|█████     | 65/129 [00:31<00:28,  2.26it/s]"
     ]
    },
    {
     "name": "stdout",
     "output_type": "stream",
     "text": [
      "smolagents/answers meta-llama__Llama-3.1-8B-Instruct__vanilla__simpleqa\n"
     ]
    },
    {
     "name": "stderr",
     "output_type": "stream",
     "text": [
      "/tmp/ipykernel_20358/3316273531.py:86: UserWarning: Answer lists have different lengths, returning False.\n",
      "  warnings.warn(\"Answer lists have different lengths, returning False.\", UserWarning)\n",
      "Processing tasks:  51%|█████     | 66/129 [00:32<00:25,  2.46it/s]"
     ]
    },
    {
     "name": "stdout",
     "output_type": "stream",
     "text": [
      "smolagents/answers meta-llama__Llama-3.2-3B-Instruct__code__gaia\n"
     ]
    },
    {
     "name": "stderr",
     "output_type": "stream",
     "text": [
      "/tmp/ipykernel_20358/3316273531.py:86: UserWarning: Answer lists have different lengths, returning False.\n",
      "  warnings.warn(\"Answer lists have different lengths, returning False.\", UserWarning)\n",
      "Processing tasks:  52%|█████▏    | 67/129 [00:33<00:35,  1.77it/s]/tmp/ipykernel_20358/3316273531.py:86: UserWarning: Answer lists have different lengths, returning False.\n",
      "  warnings.warn(\"Answer lists have different lengths, returning False.\", UserWarning)\n"
     ]
    },
    {
     "name": "stdout",
     "output_type": "stream",
     "text": [
      "smolagents/answers meta-llama__Llama-3.2-3B-Instruct__code__math\n",
      "smolagents/answers meta-llama__Llama-3.2-3B-Instruct__code__simpleqa\n",
      "smolagents/answers meta-llama__Llama-3.2-3B-Instruct__vanilla__gaia\n",
      "smolagents/answers meta-llama__Llama-3.2-3B-Instruct__vanilla__math\n",
      "smolagents/answers meta-llama__Llama-3.2-3B-Instruct__vanilla__simpleqa\n"
     ]
    },
    {
     "name": "stderr",
     "output_type": "stream",
     "text": [
      "/tmp/ipykernel_20358/3316273531.py:86: UserWarning: Answer lists have different lengths, returning False.\n",
      "  warnings.warn(\"Answer lists have different lengths, returning False.\", UserWarning)\n",
      "Processing tasks:  56%|█████▌    | 72/129 [00:34<00:18,  3.12it/s]"
     ]
    },
    {
     "name": "stdout",
     "output_type": "stream",
     "text": [
      "smolagents/answers meta-llama__Llama-3.3-70B-Instruct__code__gaia\n"
     ]
    },
    {
     "name": "stderr",
     "output_type": "stream",
     "text": [
      "Processing tasks:  57%|█████▋    | 73/129 [00:35<00:24,  2.30it/s]"
     ]
    },
    {
     "name": "stdout",
     "output_type": "stream",
     "text": [
      "smolagents/answers meta-llama__Llama-3.3-70B-Instruct__code__math\n",
      "smolagents/answers meta-llama__Llama-3.3-70B-Instruct__code__simpleqa\n",
      "smolagents/answers meta-llama__Llama-3.3-70B-Instruct__vanilla__gaia\n"
     ]
    },
    {
     "name": "stderr",
     "output_type": "stream",
     "text": [
      "Generating test split:   0%|          | 0/32 [00:00<?, ? examples/s]\n",
      "Processing tasks:  62%|██████▏   | 80/129 [00:36<00:13,  3.67it/s]/tmp/ipykernel_20358/3316273531.py:86: UserWarning: Answer lists have different lengths, returning False.\n",
      "  warnings.warn(\"Answer lists have different lengths, returning False.\", UserWarning)\n"
     ]
    },
    {
     "name": "stdout",
     "output_type": "stream",
     "text": [
      "smolagents/answers meta-llama__Llama-3.3-70B-Instruct__vanilla__math\n",
      "Error with deepseek-ai__DeepSeek-R1__tool-calling__gaia: [{'expected': SplitInfo(name='test', num_bytes=2866077, num_examples=32, shard_lengths=None, dataset_name=None), 'recorded': SplitInfo(name='test', num_bytes=0, num_examples=0, shard_lengths=None, dataset_name='answers')}]\n",
      "smolagents/answers meta-llama__Llama-3.3-70B-Instruct__vanilla__simpleqa\n",
      "smolagents/answers meta-llama__Llama-4-Maverick-17B-128E-Instruct__code__gaia\n",
      "smolagents/answers meta-llama__Llama-4-Maverick-17B-128E-Instruct__code__math\n",
      "smolagents/answers meta-llama__Llama-4-Maverick-17B-128E-Instruct__code__simpleqa\n",
      "smolagents/answers meta-llama__Llama-4-Scout-17B-16E-Instruct__code__gaia\n"
     ]
    },
    {
     "name": "stderr",
     "output_type": "stream",
     "text": [
      "Processing tasks:  64%|██████▎   | 82/129 [00:39<00:23,  1.97it/s]/tmp/ipykernel_20358/3316273531.py:86: UserWarning: Answer lists have different lengths, returning False.\n",
      "  warnings.warn(\"Answer lists have different lengths, returning False.\", UserWarning)\n"
     ]
    },
    {
     "name": "stdout",
     "output_type": "stream",
     "text": [
      "smolagents/answers meta-llama__Llama-4-Scout-17B-16E-Instruct__code__math\n",
      "smolagents/answers meta-llama__Llama-4-Scout-17B-16E-Instruct__code__simpleqa\n"
     ]
    },
    {
     "name": "stderr",
     "output_type": "stream",
     "text": [
      "Processing tasks:  65%|██████▌   | 84/129 [00:40<00:24,  1.87it/s]/tmp/ipykernel_20358/3316273531.py:86: UserWarning: Answer lists have different lengths, returning False.\n",
      "  warnings.warn(\"Answer lists have different lengths, returning False.\", UserWarning)\n",
      "/tmp/ipykernel_20358/3316273531.py:86: UserWarning: Answer lists have different lengths, returning False.\n",
      "  warnings.warn(\"Answer lists have different lengths, returning False.\", UserWarning)\n",
      "Processing tasks:  68%|██████▊   | 88/129 [00:40<00:13,  3.07it/s]"
     ]
    },
    {
     "name": "stdout",
     "output_type": "stream",
     "text": [
      "smolagents/answers mistralai__Mistral-Nemo-Instruct-2407__code__gaia\n",
      "smolagents/answers mistralai__Mistral-Nemo-Instruct-2407__code__math\n",
      "smolagents/answers mistralai__Mistral-Nemo-Instruct-2407__code__simpleqa\n",
      "smolagents/answers mistralai__Mistral-Nemo-Instruct-2407__vanilla__gaia\n",
      "smolagents/answers mistralai__Mistral-Nemo-Instruct-2407__vanilla__math\n",
      "smolagents/answers mistralai__Mistral-Nemo-Instruct-2407__vanilla__simpleqa\n",
      "smolagents/answers mistralai__Mistral-Small-24B-Instruct-2501__code__gaia\n"
     ]
    },
    {
     "name": "stderr",
     "output_type": "stream",
     "text": [
      "/tmp/ipykernel_20358/3316273531.py:86: UserWarning: Answer lists have different lengths, returning False.\n",
      "  warnings.warn(\"Answer lists have different lengths, returning False.\", UserWarning)\n",
      "Processing tasks:  72%|███████▏  | 93/129 [00:43<00:13,  2.63it/s]"
     ]
    },
    {
     "name": "stdout",
     "output_type": "stream",
     "text": [
      "smolagents/answers mistralai__Mistral-Small-24B-Instruct-2501__code__math\n",
      "smolagents/answers mistralai__Mistral-Small-24B-Instruct-2501__code__simpleqa\n",
      "smolagents/answers mistralai__Mistral-Small-24B-Instruct-2501__tool-calling__gaia\n",
      "smolagents/answers mistralai__Mistral-Small-24B-Instruct-2501__tool-calling__math\n"
     ]
    },
    {
     "name": "stderr",
     "output_type": "stream",
     "text": [
      "\n",
      "Generating test split:   0%|          | 0/32 [00:00<?, ? examples/s]\n",
      "Generating test split:   0%|          | 0/50 [00:00<?, ? examples/s]\n",
      "Processing tasks:  74%|███████▎  | 95/129 [00:44<00:15,  2.15it/s]"
     ]
    },
    {
     "name": "stdout",
     "output_type": "stream",
     "text": [
      "Error with mistralai__Mistral-Small-24B-Instruct-2501__code__gaia: [{'expected': SplitInfo(name='test', num_bytes=5131526, num_examples=32, shard_lengths=None, dataset_name=None), 'recorded': SplitInfo(name='test', num_bytes=0, num_examples=0, shard_lengths=None, dataset_name='answers')}]\n",
      "smolagents/answers mistralai__Mistral-Small-24B-Instruct-2501__tool-calling__simpleqa\n",
      "Error with mistralai__Mistral-Nemo-Instruct-2407__code__math: [{'expected': SplitInfo(name='test', num_bytes=3183827, num_examples=50, shard_lengths=None, dataset_name=None), 'recorded': SplitInfo(name='test', num_bytes=0, num_examples=0, shard_lengths=None, dataset_name='answers')}]\n",
      "smolagents/answers o1__code__gaia\n"
     ]
    },
    {
     "name": "stderr",
     "output_type": "stream",
     "text": [
      "\n",
      "\n",
      "\u001b[A\u001b[A\n",
      "Generating test split:   0%|          | 0/50 [00:00<?, ? examples/s]\n",
      "Generating test split:   0%|          | 0/32 [00:00<?, ? examples/s]\n",
      "Generating test split:   0%|          | 0/50 [00:00<?, ? examples/s]\n"
     ]
    },
    {
     "name": "stdout",
     "output_type": "stream",
     "text": [
      "Error with mistralai__Mistral-Nemo-Instruct-2407__vanilla__math: [{'expected': SplitInfo(name='test', num_bytes=68830, num_examples=50, shard_lengths=None, dataset_name=None), 'recorded': SplitInfo(name='test', num_bytes=0, num_examples=0, shard_lengths=None, dataset_name='answers')}]\n",
      "smolagents/answers o1__code__math\n",
      "Error with mistralai__Mistral-Nemo-Instruct-2407__code__gaia: [{'expected': SplitInfo(name='test', num_bytes=3355637, num_examples=32, shard_lengths=None, dataset_name=None), 'recorded': SplitInfo(name='test', num_bytes=0, num_examples=0, shard_lengths=None, dataset_name='answers')}]\n",
      "smolagents/answers o1__code__simpleqa\n",
      "Error with mistralai__Mistral-Nemo-Instruct-2407__vanilla__simpleqa: [{'expected': SplitInfo(name='test', num_bytes=12216, num_examples=50, shard_lengths=None, dataset_name=None), 'recorded': SplitInfo(name='test', num_bytes=0, num_examples=0, shard_lengths=None, dataset_name='answers')}]\n",
      "smolagents/answers o1__vanilla__gaia\n"
     ]
    },
    {
     "name": "stderr",
     "output_type": "stream",
     "text": [
      "\n",
      "Generating test split:   0%|          | 0/32 [00:00<?, ? examples/s]\n",
      "Generating test split:   0%|          | 0/50 [00:00<?, ? examples/s]\n",
      "Processing tasks:  78%|███████▊  | 100/129 [00:44<00:07,  3.82it/s]"
     ]
    },
    {
     "name": "stdout",
     "output_type": "stream",
     "text": [
      "Error with mistralai__Mistral-Nemo-Instruct-2407__vanilla__gaia: [{'expected': SplitInfo(name='test', num_bytes=38307, num_examples=32, shard_lengths=None, dataset_name=None), 'recorded': SplitInfo(name='test', num_bytes=0, num_examples=0, shard_lengths=None, dataset_name='answers')}]\n",
      "smolagents/answers o1__vanilla__math\n",
      "Error with mistralai__Mistral-Nemo-Instruct-2407__code__simpleqa: [{'expected': SplitInfo(name='test', num_bytes=5563749, num_examples=50, shard_lengths=None, dataset_name=None), 'recorded': SplitInfo(name='test', num_bytes=0, num_examples=0, shard_lengths=None, dataset_name='answers')}]\n",
      "smolagents/answers o1__vanilla__simpleqa\n"
     ]
    },
    {
     "name": "stderr",
     "output_type": "stream",
     "text": [
      "/tmp/ipykernel_20358/3316273531.py:86: UserWarning: Answer lists have different lengths, returning False.\n",
      "  warnings.warn(\"Answer lists have different lengths, returning False.\", UserWarning)\n",
      "Processing tasks:  79%|███████▉  | 102/129 [00:47<00:13,  2.06it/s]"
     ]
    },
    {
     "name": "stdout",
     "output_type": "stream",
     "text": [
      "smolagents/answers o3-mini__code__gaia\n"
     ]
    },
    {
     "name": "stderr",
     "output_type": "stream",
     "text": [
      "\n",
      "Generating test split:   0%|          | 0/50 [00:00<?, ? examples/s]\n"
     ]
    },
    {
     "name": "stdout",
     "output_type": "stream",
     "text": [
      "Error with mistralai__Mistral-Small-24B-Instruct-2501__code__simpleqa: [{'expected': SplitInfo(name='test', num_bytes=7870820, num_examples=50, shard_lengths=None, dataset_name=None), 'recorded': SplitInfo(name='test', num_bytes=0, num_examples=0, shard_lengths=None, dataset_name='answers')}]\n",
      "smolagents/answers o3-mini__code__math\n"
     ]
    },
    {
     "name": "stderr",
     "output_type": "stream",
     "text": [
      "Generating test split:   0%|          | 0/50 [00:00<?, ? examples/s]\n",
      "Generating test split:   0%|          | 0/32 [00:00<?, ? examples/s]\n"
     ]
    },
    {
     "name": "stdout",
     "output_type": "stream",
     "text": [
      "Error with mistralai__Mistral-Small-24B-Instruct-2501__code__math: [{'expected': SplitInfo(name='test', num_bytes=7923480, num_examples=50, shard_lengths=None, dataset_name=None), 'recorded': SplitInfo(name='test', num_bytes=0, num_examples=0, shard_lengths=None, dataset_name='answers')}]\n",
      "smolagents/answers o3-mini__code__simpleqa\n",
      "Error with mistralai__Mistral-Small-24B-Instruct-2501__tool-calling__gaia: [{'expected': SplitInfo(name='test', num_bytes=3471836, num_examples=32, shard_lengths=None, dataset_name=None), 'recorded': SplitInfo(name='test', num_bytes=0, num_examples=0, shard_lengths=None, dataset_name='answers')}]\n",
      "smolagents/answers openai__gpt-4o__code__gaia\n"
     ]
    },
    {
     "name": "stderr",
     "output_type": "stream",
     "text": [
      "Processing tasks:  83%|████████▎ | 107/129 [00:49<00:09,  2.41it/s]"
     ]
    },
    {
     "name": "stdout",
     "output_type": "stream",
     "text": [
      "smolagents/answers openai__gpt-4o__code__math\n",
      "smolagents/answers openai__gpt-4o__code__simpleqa\n",
      "smolagents/answers openai__gpt-4o__tool-calling__gaia\n",
      "smolagents/answers openai__gpt-4o__tool-calling__math\n",
      "smolagents/answers openai__gpt-4o__tool-calling__simpleqa\n"
     ]
    },
    {
     "name": "stderr",
     "output_type": "stream",
     "text": [
      "Generating test split:   0%|          | 0/50 [00:00<?, ? examples/s]\n",
      "/tmp/ipykernel_20358/3316273531.py:86: UserWarning: Answer lists have different lengths, returning False.\n",
      "  warnings.warn(\"Answer lists have different lengths, returning False.\", UserWarning)\n"
     ]
    },
    {
     "name": "stdout",
     "output_type": "stream",
     "text": [
      "smolagents/answers openai__gpt-4o__vanilla__gaia\n",
      "smolagents/answers openai__gpt-4o__vanilla__math\n",
      "smolagents/answers openai__gpt-4o__vanilla__simpleqa\n",
      "Error with mistralai__Mistral-Small-24B-Instruct-2501__tool-calling__math: [{'expected': SplitInfo(name='test', num_bytes=5327306, num_examples=50, shard_lengths=None, dataset_name=None), 'recorded': SplitInfo(name='test', num_bytes=0, num_examples=0, shard_lengths=None, dataset_name='answers')}]\n"
     ]
    },
    {
     "name": "stderr",
     "output_type": "stream",
     "text": [
      "/tmp/ipykernel_20358/3316273531.py:86: UserWarning: Answer lists have different lengths, returning False.\n",
      "  warnings.warn(\"Answer lists have different lengths, returning False.\", UserWarning)\n",
      "Processing tasks:  90%|████████▉ | 116/129 [00:51<00:03,  3.89it/s]/tmp/ipykernel_20358/3316273531.py:86: UserWarning: Answer lists have different lengths, returning False.\n",
      "  warnings.warn(\"Answer lists have different lengths, returning False.\", UserWarning)\n",
      "Generating test split:   0%|          | 0/50 [00:00<?, ? examples/s]/tmp/ipykernel_20358/3316273531.py:86: UserWarning: Answer lists have different lengths, returning False.\n",
      "  warnings.warn(\"Answer lists have different lengths, returning False.\", UserWarning)\n",
      "\n",
      "/tmp/ipykernel_20358/3316273531.py:86: UserWarning: Answer lists have different lengths, returning False.\n",
      "  warnings.warn(\"Answer lists have different lengths, returning False.\", UserWarning)\n",
      "Processing tasks:  95%|█████████▍| 122/129 [00:52<00:01,  4.63it/s]"
     ]
    },
    {
     "name": "stdout",
     "output_type": "stream",
     "text": [
      "Error with mistralai__Mistral-Small-24B-Instruct-2501__tool-calling__simpleqa: [{'expected': SplitInfo(name='test', num_bytes=5274651, num_examples=50, shard_lengths=None, dataset_name=None), 'recorded': SplitInfo(name='test', num_bytes=0, num_examples=0, shard_lengths=None, dataset_name='answers')}]\n"
     ]
    },
    {
     "name": "stderr",
     "output_type": "stream",
     "text": [
      "Processing tasks:  98%|█████████▊| 126/129 [00:53<00:00,  4.88it/s]/tmp/ipykernel_20358/3316273531.py:86: UserWarning: Answer lists have different lengths, returning False.\n",
      "  warnings.warn(\"Answer lists have different lengths, returning False.\", UserWarning)\n",
      "Processing tasks:  98%|█████████▊| 127/129 [00:54<00:00,  4.12it/s]/tmp/ipykernel_20358/3316273531.py:86: UserWarning: Answer lists have different lengths, returning False.\n",
      "  warnings.warn(\"Answer lists have different lengths, returning False.\", UserWarning)\n",
      "Processing tasks: 100%|██████████| 129/129 [00:57<00:00,  2.26it/s]\n"
     ]
    },
    {
     "data": {
      "text/html": [
       "<div>\n",
       "<style scoped>\n",
       "    .dataframe tbody tr th:only-of-type {\n",
       "        vertical-align: middle;\n",
       "    }\n",
       "\n",
       "    .dataframe tbody tr th {\n",
       "        vertical-align: top;\n",
       "    }\n",
       "\n",
       "    .dataframe thead th {\n",
       "        text-align: right;\n",
       "    }\n",
       "</style>\n",
       "<table border=\"1\" class=\"dataframe\">\n",
       "  <thead>\n",
       "    <tr style=\"text-align: right;\">\n",
       "      <th></th>\n",
       "      <th>model_id</th>\n",
       "      <th>agent_action_type</th>\n",
       "      <th>source</th>\n",
       "      <th>acc</th>\n",
       "    </tr>\n",
       "  </thead>\n",
       "  <tbody>\n",
       "    <tr>\n",
       "      <th>0</th>\n",
       "      <td>Qwen/QwQ-32B</td>\n",
       "      <td>code</td>\n",
       "      <td>MATH</td>\n",
       "      <td>94.00</td>\n",
       "    </tr>\n",
       "    <tr>\n",
       "      <th>1</th>\n",
       "      <td>Qwen/QwQ-32B</td>\n",
       "      <td>code</td>\n",
       "      <td>SimpleQA</td>\n",
       "      <td>74.00</td>\n",
       "    </tr>\n",
       "    <tr>\n",
       "      <th>2</th>\n",
       "      <td>Qwen/QwQ-32B</td>\n",
       "      <td>code</td>\n",
       "      <td>GAIA</td>\n",
       "      <td>37.50</td>\n",
       "    </tr>\n",
       "    <tr>\n",
       "      <th>3</th>\n",
       "      <td>Qwen/Qwen2.5-7B-Instruct</td>\n",
       "      <td>vanilla</td>\n",
       "      <td>SimpleQA</td>\n",
       "      <td>4.00</td>\n",
       "    </tr>\n",
       "    <tr>\n",
       "      <th>4</th>\n",
       "      <td>Qwen/Qwen2.5-72B-Instruct</td>\n",
       "      <td>code</td>\n",
       "      <td>GAIA</td>\n",
       "      <td>28.12</td>\n",
       "    </tr>\n",
       "  </tbody>\n",
       "</table>\n",
       "</div>"
      ],
      "text/plain": [
       "                    model_id agent_action_type    source    acc\n",
       "0               Qwen/QwQ-32B              code      MATH  94.00\n",
       "1               Qwen/QwQ-32B              code  SimpleQA  74.00\n",
       "2               Qwen/QwQ-32B              code      GAIA  37.50\n",
       "3   Qwen/Qwen2.5-7B-Instruct           vanilla  SimpleQA   4.00\n",
       "4  Qwen/Qwen2.5-72B-Instruct              code      GAIA  28.12"
      ]
     },
     "execution_count": 4,
     "metadata": {},
     "output_type": "execute_result"
    }
   ],
   "source": [
    "import datasets\n",
    "import pandas as pd\n",
    "\n",
    "\n",
    "# Choose the answers subsets to score:\n",
    "# answers_subsets = [\"meta-llama__Llama-3.1-8B-Instruct__code__gaia\"]\n",
    "# or get all the answers subsets present in the ANSWERS_DATASET\n",
    "answers_subsets = datasets.get_dataset_config_names(ANSWERS_DATASET)\n",
    "print(\"Number of answers_subsets\", len(answers_subsets))\n",
    "print(\"Example of answers_subset\", answers_subsets[0])\n",
    "\n",
    "result_df = score_answers(answers_subsets)\n",
    "result_df[\"acc\"] = (result_df[\"acc\"] * 100).round(2)\n",
    "result_df.head()"
   ]
  },
  {
   "cell_type": "code",
   "execution_count": 5,
   "metadata": {},
   "outputs": [],
   "source": [
    "pivot_df = result_df.pivot_table(\n",
    "    index=[\"model_id\", \"source\"],\n",
    "    columns=[\"agent_action_type\"],\n",
    "    values=\"acc\",\n",
    "    fill_value=float(\"nan\"),\n",
    ").reset_index()"
   ]
  },
  {
   "cell_type": "markdown",
   "metadata": {},
   "source": [
    "### Display results"
   ]
  },
  {
   "cell_type": "code",
   "execution_count": 6,
   "metadata": {},
   "outputs": [
    {
     "data": {
      "text/html": [
       "<div>\n",
       "<style scoped>\n",
       "    .dataframe tbody tr th:only-of-type {\n",
       "        vertical-align: middle;\n",
       "    }\n",
       "\n",
       "    .dataframe tbody tr th {\n",
       "        vertical-align: top;\n",
       "    }\n",
       "\n",
       "    .dataframe thead th {\n",
       "        text-align: right;\n",
       "    }\n",
       "</style>\n",
       "<table border=\"1\" class=\"dataframe\">\n",
       "  <thead>\n",
       "    <tr style=\"text-align: right;\">\n",
       "      <th>agent_action_type</th>\n",
       "      <th>model_id</th>\n",
       "      <th>source</th>\n",
       "      <th>code</th>\n",
       "      <th>tool-calling</th>\n",
       "      <th>tool_calling</th>\n",
       "      <th>vanilla</th>\n",
       "    </tr>\n",
       "  </thead>\n",
       "  <tbody>\n",
       "    <tr>\n",
       "      <th>0</th>\n",
       "      <td>Qwen/QwQ-32B</td>\n",
       "      <td>GAIA</td>\n",
       "      <td>37.50</td>\n",
       "      <td>NaN</td>\n",
       "      <td>NaN</td>\n",
       "      <td>NaN</td>\n",
       "    </tr>\n",
       "    <tr>\n",
       "      <th>1</th>\n",
       "      <td>Qwen/QwQ-32B</td>\n",
       "      <td>MATH</td>\n",
       "      <td>94.00</td>\n",
       "      <td>NaN</td>\n",
       "      <td>NaN</td>\n",
       "      <td>NaN</td>\n",
       "    </tr>\n",
       "    <tr>\n",
       "      <th>2</th>\n",
       "      <td>Qwen/QwQ-32B</td>\n",
       "      <td>SimpleQA</td>\n",
       "      <td>74.00</td>\n",
       "      <td>NaN</td>\n",
       "      <td>NaN</td>\n",
       "      <td>NaN</td>\n",
       "    </tr>\n",
       "    <tr>\n",
       "      <th>3</th>\n",
       "      <td>Qwen/Qwen2.5-72B-Instruct</td>\n",
       "      <td>GAIA</td>\n",
       "      <td>28.12</td>\n",
       "      <td>NaN</td>\n",
       "      <td>NaN</td>\n",
       "      <td>6.25</td>\n",
       "    </tr>\n",
       "    <tr>\n",
       "      <th>4</th>\n",
       "      <td>Qwen/Qwen2.5-72B-Instruct</td>\n",
       "      <td>MATH</td>\n",
       "      <td>76.00</td>\n",
       "      <td>NaN</td>\n",
       "      <td>NaN</td>\n",
       "      <td>30.00</td>\n",
       "    </tr>\n",
       "    <tr>\n",
       "      <th>5</th>\n",
       "      <td>Qwen/Qwen2.5-72B-Instruct</td>\n",
       "      <td>SimpleQA</td>\n",
       "      <td>88.00</td>\n",
       "      <td>NaN</td>\n",
       "      <td>NaN</td>\n",
       "      <td>10.00</td>\n",
       "    </tr>\n",
       "    <tr>\n",
       "      <th>6</th>\n",
       "      <td>Qwen/Qwen2.5-7B-Instruct</td>\n",
       "      <td>GAIA</td>\n",
       "      <td>NaN</td>\n",
       "      <td>NaN</td>\n",
       "      <td>NaN</td>\n",
       "      <td>3.12</td>\n",
       "    </tr>\n",
       "    <tr>\n",
       "      <th>7</th>\n",
       "      <td>Qwen/Qwen2.5-7B-Instruct</td>\n",
       "      <td>MATH</td>\n",
       "      <td>NaN</td>\n",
       "      <td>NaN</td>\n",
       "      <td>NaN</td>\n",
       "      <td>38.00</td>\n",
       "    </tr>\n",
       "    <tr>\n",
       "      <th>8</th>\n",
       "      <td>Qwen/Qwen2.5-7B-Instruct</td>\n",
       "      <td>SimpleQA</td>\n",
       "      <td>NaN</td>\n",
       "      <td>NaN</td>\n",
       "      <td>NaN</td>\n",
       "      <td>4.00</td>\n",
       "    </tr>\n",
       "    <tr>\n",
       "      <th>9</th>\n",
       "      <td>Qwen/Qwen2.5-Coder-32B-Instruct</td>\n",
       "      <td>GAIA</td>\n",
       "      <td>21.88</td>\n",
       "      <td>18.75</td>\n",
       "      <td>NaN</td>\n",
       "      <td>3.12</td>\n",
       "    </tr>\n",
       "    <tr>\n",
       "      <th>10</th>\n",
       "      <td>Qwen/Qwen2.5-Coder-32B-Instruct</td>\n",
       "      <td>MATH</td>\n",
       "      <td>84.00</td>\n",
       "      <td>44.00</td>\n",
       "      <td>NaN</td>\n",
       "      <td>62.00</td>\n",
       "    </tr>\n",
       "    <tr>\n",
       "      <th>11</th>\n",
       "      <td>Qwen/Qwen2.5-Coder-32B-Instruct</td>\n",
       "      <td>SimpleQA</td>\n",
       "      <td>74.00</td>\n",
       "      <td>58.00</td>\n",
       "      <td>NaN</td>\n",
       "      <td>8.00</td>\n",
       "    </tr>\n",
       "    <tr>\n",
       "      <th>12</th>\n",
       "      <td>Qwen/Qwen3-235B-A22B</td>\n",
       "      <td>GAIA</td>\n",
       "      <td>15.62</td>\n",
       "      <td>NaN</td>\n",
       "      <td>NaN</td>\n",
       "      <td>NaN</td>\n",
       "    </tr>\n",
       "    <tr>\n",
       "      <th>13</th>\n",
       "      <td>Qwen/Qwen3-235B-A22B</td>\n",
       "      <td>MATH</td>\n",
       "      <td>58.00</td>\n",
       "      <td>NaN</td>\n",
       "      <td>NaN</td>\n",
       "      <td>NaN</td>\n",
       "    </tr>\n",
       "    <tr>\n",
       "      <th>14</th>\n",
       "      <td>Qwen/Qwen3-235B-A22B</td>\n",
       "      <td>SimpleQA</td>\n",
       "      <td>76.00</td>\n",
       "      <td>NaN</td>\n",
       "      <td>NaN</td>\n",
       "      <td>NaN</td>\n",
       "    </tr>\n",
       "    <tr>\n",
       "      <th>15</th>\n",
       "      <td>Qwen/Qwen3-32B</td>\n",
       "      <td>GAIA</td>\n",
       "      <td>25.00</td>\n",
       "      <td>NaN</td>\n",
       "      <td>NaN</td>\n",
       "      <td>NaN</td>\n",
       "    </tr>\n",
       "    <tr>\n",
       "      <th>16</th>\n",
       "      <td>Qwen/Qwen3-32B</td>\n",
       "      <td>MATH</td>\n",
       "      <td>90.00</td>\n",
       "      <td>NaN</td>\n",
       "      <td>NaN</td>\n",
       "      <td>NaN</td>\n",
       "    </tr>\n",
       "    <tr>\n",
       "      <th>17</th>\n",
       "      <td>Qwen/Qwen3-32B</td>\n",
       "      <td>SimpleQA</td>\n",
       "      <td>78.00</td>\n",
       "      <td>NaN</td>\n",
       "      <td>NaN</td>\n",
       "      <td>NaN</td>\n",
       "    </tr>\n",
       "    <tr>\n",
       "      <th>18</th>\n",
       "      <td>anthropic/claude-3-5-sonnet-latest</td>\n",
       "      <td>GAIA</td>\n",
       "      <td>56.25</td>\n",
       "      <td>NaN</td>\n",
       "      <td>0.00</td>\n",
       "      <td>3.12</td>\n",
       "    </tr>\n",
       "    <tr>\n",
       "      <th>19</th>\n",
       "      <td>anthropic/claude-3-5-sonnet-latest</td>\n",
       "      <td>MATH</td>\n",
       "      <td>86.00</td>\n",
       "      <td>NaN</td>\n",
       "      <td>54.00</td>\n",
       "      <td>50.00</td>\n",
       "    </tr>\n",
       "    <tr>\n",
       "      <th>20</th>\n",
       "      <td>anthropic/claude-3-5-sonnet-latest</td>\n",
       "      <td>SimpleQA</td>\n",
       "      <td>82.00</td>\n",
       "      <td>NaN</td>\n",
       "      <td>0.00</td>\n",
       "      <td>34.00</td>\n",
       "    </tr>\n",
       "    <tr>\n",
       "      <th>21</th>\n",
       "      <td>anthropic/claude-3-7-sonnet-20250219</td>\n",
       "      <td>GAIA</td>\n",
       "      <td>50.00</td>\n",
       "      <td>NaN</td>\n",
       "      <td>NaN</td>\n",
       "      <td>NaN</td>\n",
       "    </tr>\n",
       "    <tr>\n",
       "      <th>22</th>\n",
       "      <td>anthropic/claude-3-7-sonnet-20250219</td>\n",
       "      <td>MATH</td>\n",
       "      <td>96.00</td>\n",
       "      <td>NaN</td>\n",
       "      <td>NaN</td>\n",
       "      <td>NaN</td>\n",
       "    </tr>\n",
       "    <tr>\n",
       "      <th>23</th>\n",
       "      <td>anthropic/claude-3-7-sonnet-20250219</td>\n",
       "      <td>SimpleQA</td>\n",
       "      <td>86.00</td>\n",
       "      <td>NaN</td>\n",
       "      <td>NaN</td>\n",
       "      <td>NaN</td>\n",
       "    </tr>\n",
       "    <tr>\n",
       "      <th>24</th>\n",
       "      <td>anthropic/claude-opus-4-20250514</td>\n",
       "      <td>GAIA</td>\n",
       "      <td>59.38</td>\n",
       "      <td>NaN</td>\n",
       "      <td>NaN</td>\n",
       "      <td>NaN</td>\n",
       "    </tr>\n",
       "    <tr>\n",
       "      <th>25</th>\n",
       "      <td>anthropic/claude-opus-4-20250514</td>\n",
       "      <td>MATH</td>\n",
       "      <td>98.00</td>\n",
       "      <td>NaN</td>\n",
       "      <td>NaN</td>\n",
       "      <td>NaN</td>\n",
       "    </tr>\n",
       "    <tr>\n",
       "      <th>26</th>\n",
       "      <td>anthropic/claude-opus-4-20250514</td>\n",
       "      <td>SimpleQA</td>\n",
       "      <td>94.00</td>\n",
       "      <td>NaN</td>\n",
       "      <td>NaN</td>\n",
       "      <td>NaN</td>\n",
       "    </tr>\n",
       "    <tr>\n",
       "      <th>27</th>\n",
       "      <td>anthropic/claude-sonnet-4-20250514</td>\n",
       "      <td>GAIA</td>\n",
       "      <td>56.25</td>\n",
       "      <td>NaN</td>\n",
       "      <td>NaN</td>\n",
       "      <td>NaN</td>\n",
       "    </tr>\n",
       "    <tr>\n",
       "      <th>28</th>\n",
       "      <td>anthropic/claude-sonnet-4-20250514</td>\n",
       "      <td>MATH</td>\n",
       "      <td>100.00</td>\n",
       "      <td>NaN</td>\n",
       "      <td>NaN</td>\n",
       "      <td>NaN</td>\n",
       "    </tr>\n",
       "    <tr>\n",
       "      <th>29</th>\n",
       "      <td>anthropic/claude-sonnet-4-20250514</td>\n",
       "      <td>SimpleQA</td>\n",
       "      <td>82.00</td>\n",
       "      <td>NaN</td>\n",
       "      <td>NaN</td>\n",
       "      <td>NaN</td>\n",
       "    </tr>\n",
       "    <tr>\n",
       "      <th>30</th>\n",
       "      <td>deepseek-ai/DeepSeek-R1</td>\n",
       "      <td>GAIA</td>\n",
       "      <td>50.00</td>\n",
       "      <td>NaN</td>\n",
       "      <td>NaN</td>\n",
       "      <td>NaN</td>\n",
       "    </tr>\n",
       "    <tr>\n",
       "      <th>31</th>\n",
       "      <td>deepseek-ai/DeepSeek-R1</td>\n",
       "      <td>MATH</td>\n",
       "      <td>94.00</td>\n",
       "      <td>NaN</td>\n",
       "      <td>NaN</td>\n",
       "      <td>NaN</td>\n",
       "    </tr>\n",
       "    <tr>\n",
       "      <th>32</th>\n",
       "      <td>deepseek-ai/DeepSeek-R1</td>\n",
       "      <td>SimpleQA</td>\n",
       "      <td>74.00</td>\n",
       "      <td>NaN</td>\n",
       "      <td>NaN</td>\n",
       "      <td>NaN</td>\n",
       "    </tr>\n",
       "    <tr>\n",
       "      <th>33</th>\n",
       "      <td>deepseek-ai/DeepSeek-R1-Distill-Qwen-32B</td>\n",
       "      <td>GAIA</td>\n",
       "      <td>31.25</td>\n",
       "      <td>12.50</td>\n",
       "      <td>NaN</td>\n",
       "      <td>NaN</td>\n",
       "    </tr>\n",
       "    <tr>\n",
       "      <th>34</th>\n",
       "      <td>deepseek-ai/DeepSeek-R1-Distill-Qwen-32B</td>\n",
       "      <td>MATH</td>\n",
       "      <td>92.00</td>\n",
       "      <td>44.00</td>\n",
       "      <td>NaN</td>\n",
       "      <td>NaN</td>\n",
       "    </tr>\n",
       "    <tr>\n",
       "      <th>35</th>\n",
       "      <td>deepseek-ai/DeepSeek-R1-Distill-Qwen-32B</td>\n",
       "      <td>SimpleQA</td>\n",
       "      <td>40.00</td>\n",
       "      <td>48.00</td>\n",
       "      <td>NaN</td>\n",
       "      <td>NaN</td>\n",
       "    </tr>\n",
       "    <tr>\n",
       "      <th>36</th>\n",
       "      <td>gpt-4.5-preview</td>\n",
       "      <td>GAIA</td>\n",
       "      <td>56.25</td>\n",
       "      <td>NaN</td>\n",
       "      <td>NaN</td>\n",
       "      <td>15.62</td>\n",
       "    </tr>\n",
       "    <tr>\n",
       "      <th>37</th>\n",
       "      <td>gpt-4.5-preview</td>\n",
       "      <td>MATH</td>\n",
       "      <td>92.00</td>\n",
       "      <td>NaN</td>\n",
       "      <td>NaN</td>\n",
       "      <td>32.00</td>\n",
       "    </tr>\n",
       "    <tr>\n",
       "      <th>38</th>\n",
       "      <td>gpt-4.5-preview</td>\n",
       "      <td>SimpleQA</td>\n",
       "      <td>88.00</td>\n",
       "      <td>NaN</td>\n",
       "      <td>NaN</td>\n",
       "      <td>58.00</td>\n",
       "    </tr>\n",
       "    <tr>\n",
       "      <th>39</th>\n",
       "      <td>gpt-4o</td>\n",
       "      <td>GAIA</td>\n",
       "      <td>34.38</td>\n",
       "      <td>NaN</td>\n",
       "      <td>15.62</td>\n",
       "      <td>3.12</td>\n",
       "    </tr>\n",
       "    <tr>\n",
       "      <th>40</th>\n",
       "      <td>gpt-4o</td>\n",
       "      <td>MATH</td>\n",
       "      <td>78.00</td>\n",
       "      <td>NaN</td>\n",
       "      <td>58.00</td>\n",
       "      <td>40.00</td>\n",
       "    </tr>\n",
       "    <tr>\n",
       "      <th>41</th>\n",
       "      <td>gpt-4o</td>\n",
       "      <td>SimpleQA</td>\n",
       "      <td>80.00</td>\n",
       "      <td>NaN</td>\n",
       "      <td>86.00</td>\n",
       "      <td>6.00</td>\n",
       "    </tr>\n",
       "    <tr>\n",
       "      <th>42</th>\n",
       "      <td>meta-llama/Llama-3.1-70B-Instruct</td>\n",
       "      <td>GAIA</td>\n",
       "      <td>15.62</td>\n",
       "      <td>18.75</td>\n",
       "      <td>NaN</td>\n",
       "      <td>NaN</td>\n",
       "    </tr>\n",
       "    <tr>\n",
       "      <th>43</th>\n",
       "      <td>meta-llama/Llama-3.1-70B-Instruct</td>\n",
       "      <td>MATH</td>\n",
       "      <td>70.00</td>\n",
       "      <td>16.00</td>\n",
       "      <td>NaN</td>\n",
       "      <td>NaN</td>\n",
       "    </tr>\n",
       "    <tr>\n",
       "      <th>44</th>\n",
       "      <td>meta-llama/Llama-3.1-70B-Instruct</td>\n",
       "      <td>SimpleQA</td>\n",
       "      <td>64.00</td>\n",
       "      <td>18.00</td>\n",
       "      <td>NaN</td>\n",
       "      <td>NaN</td>\n",
       "    </tr>\n",
       "    <tr>\n",
       "      <th>45</th>\n",
       "      <td>meta-llama/Llama-3.1-8B-Instruct</td>\n",
       "      <td>GAIA</td>\n",
       "      <td>0.00</td>\n",
       "      <td>6.25</td>\n",
       "      <td>NaN</td>\n",
       "      <td>0.00</td>\n",
       "    </tr>\n",
       "    <tr>\n",
       "      <th>46</th>\n",
       "      <td>meta-llama/Llama-3.1-8B-Instruct</td>\n",
       "      <td>MATH</td>\n",
       "      <td>14.00</td>\n",
       "      <td>12.00</td>\n",
       "      <td>NaN</td>\n",
       "      <td>18.00</td>\n",
       "    </tr>\n",
       "    <tr>\n",
       "      <th>47</th>\n",
       "      <td>meta-llama/Llama-3.1-8B-Instruct</td>\n",
       "      <td>SimpleQA</td>\n",
       "      <td>2.00</td>\n",
       "      <td>12.00</td>\n",
       "      <td>NaN</td>\n",
       "      <td>6.00</td>\n",
       "    </tr>\n",
       "    <tr>\n",
       "      <th>48</th>\n",
       "      <td>meta-llama/Llama-3.2-3B-Instruct</td>\n",
       "      <td>GAIA</td>\n",
       "      <td>3.12</td>\n",
       "      <td>NaN</td>\n",
       "      <td>NaN</td>\n",
       "      <td>0.00</td>\n",
       "    </tr>\n",
       "    <tr>\n",
       "      <th>49</th>\n",
       "      <td>meta-llama/Llama-3.2-3B-Instruct</td>\n",
       "      <td>MATH</td>\n",
       "      <td>40.00</td>\n",
       "      <td>NaN</td>\n",
       "      <td>NaN</td>\n",
       "      <td>12.00</td>\n",
       "    </tr>\n",
       "    <tr>\n",
       "      <th>50</th>\n",
       "      <td>meta-llama/Llama-3.2-3B-Instruct</td>\n",
       "      <td>SimpleQA</td>\n",
       "      <td>20.00</td>\n",
       "      <td>NaN</td>\n",
       "      <td>NaN</td>\n",
       "      <td>0.00</td>\n",
       "    </tr>\n",
       "    <tr>\n",
       "      <th>51</th>\n",
       "      <td>meta-llama/Llama-3.3-70B-Instruct</td>\n",
       "      <td>GAIA</td>\n",
       "      <td>31.25</td>\n",
       "      <td>NaN</td>\n",
       "      <td>NaN</td>\n",
       "      <td>3.12</td>\n",
       "    </tr>\n",
       "    <tr>\n",
       "      <th>52</th>\n",
       "      <td>meta-llama/Llama-3.3-70B-Instruct</td>\n",
       "      <td>MATH</td>\n",
       "      <td>72.00</td>\n",
       "      <td>NaN</td>\n",
       "      <td>NaN</td>\n",
       "      <td>40.00</td>\n",
       "    </tr>\n",
       "    <tr>\n",
       "      <th>53</th>\n",
       "      <td>meta-llama/Llama-3.3-70B-Instruct</td>\n",
       "      <td>SimpleQA</td>\n",
       "      <td>78.00</td>\n",
       "      <td>NaN</td>\n",
       "      <td>NaN</td>\n",
       "      <td>12.00</td>\n",
       "    </tr>\n",
       "    <tr>\n",
       "      <th>54</th>\n",
       "      <td>meta-llama/Llama-4-Maverick-17B-128E-Instruct</td>\n",
       "      <td>GAIA</td>\n",
       "      <td>46.88</td>\n",
       "      <td>NaN</td>\n",
       "      <td>NaN</td>\n",
       "      <td>NaN</td>\n",
       "    </tr>\n",
       "    <tr>\n",
       "      <th>55</th>\n",
       "      <td>meta-llama/Llama-4-Maverick-17B-128E-Instruct</td>\n",
       "      <td>MATH</td>\n",
       "      <td>88.00</td>\n",
       "      <td>NaN</td>\n",
       "      <td>NaN</td>\n",
       "      <td>NaN</td>\n",
       "    </tr>\n",
       "    <tr>\n",
       "      <th>56</th>\n",
       "      <td>meta-llama/Llama-4-Maverick-17B-128E-Instruct</td>\n",
       "      <td>SimpleQA</td>\n",
       "      <td>88.00</td>\n",
       "      <td>NaN</td>\n",
       "      <td>NaN</td>\n",
       "      <td>NaN</td>\n",
       "    </tr>\n",
       "    <tr>\n",
       "      <th>57</th>\n",
       "      <td>meta-llama/Llama-4-Scout-17B-16E-Instruct</td>\n",
       "      <td>GAIA</td>\n",
       "      <td>25.00</td>\n",
       "      <td>NaN</td>\n",
       "      <td>NaN</td>\n",
       "      <td>NaN</td>\n",
       "    </tr>\n",
       "    <tr>\n",
       "      <th>58</th>\n",
       "      <td>meta-llama/Llama-4-Scout-17B-16E-Instruct</td>\n",
       "      <td>MATH</td>\n",
       "      <td>84.00</td>\n",
       "      <td>NaN</td>\n",
       "      <td>NaN</td>\n",
       "      <td>NaN</td>\n",
       "    </tr>\n",
       "    <tr>\n",
       "      <th>59</th>\n",
       "      <td>meta-llama/Llama-4-Scout-17B-16E-Instruct</td>\n",
       "      <td>SimpleQA</td>\n",
       "      <td>90.00</td>\n",
       "      <td>NaN</td>\n",
       "      <td>NaN</td>\n",
       "      <td>NaN</td>\n",
       "    </tr>\n",
       "    <tr>\n",
       "      <th>60</th>\n",
       "      <td>o1</td>\n",
       "      <td>GAIA</td>\n",
       "      <td>50.00</td>\n",
       "      <td>NaN</td>\n",
       "      <td>NaN</td>\n",
       "      <td>18.75</td>\n",
       "    </tr>\n",
       "    <tr>\n",
       "      <th>61</th>\n",
       "      <td>o1</td>\n",
       "      <td>MATH</td>\n",
       "      <td>96.00</td>\n",
       "      <td>NaN</td>\n",
       "      <td>NaN</td>\n",
       "      <td>80.00</td>\n",
       "    </tr>\n",
       "    <tr>\n",
       "      <th>62</th>\n",
       "      <td>o1</td>\n",
       "      <td>SimpleQA</td>\n",
       "      <td>84.00</td>\n",
       "      <td>NaN</td>\n",
       "      <td>NaN</td>\n",
       "      <td>34.00</td>\n",
       "    </tr>\n",
       "    <tr>\n",
       "      <th>63</th>\n",
       "      <td>o3-mini</td>\n",
       "      <td>GAIA</td>\n",
       "      <td>46.88</td>\n",
       "      <td>NaN</td>\n",
       "      <td>NaN</td>\n",
       "      <td>NaN</td>\n",
       "    </tr>\n",
       "    <tr>\n",
       "      <th>64</th>\n",
       "      <td>o3-mini</td>\n",
       "      <td>MATH</td>\n",
       "      <td>98.00</td>\n",
       "      <td>NaN</td>\n",
       "      <td>NaN</td>\n",
       "      <td>NaN</td>\n",
       "    </tr>\n",
       "    <tr>\n",
       "      <th>65</th>\n",
       "      <td>o3-mini</td>\n",
       "      <td>SimpleQA</td>\n",
       "      <td>80.00</td>\n",
       "      <td>NaN</td>\n",
       "      <td>NaN</td>\n",
       "      <td>NaN</td>\n",
       "    </tr>\n",
       "  </tbody>\n",
       "</table>\n",
       "</div>"
      ],
      "text/plain": [
       "agent_action_type                                       model_id    source  \\\n",
       "0                                                   Qwen/QwQ-32B      GAIA   \n",
       "1                                                   Qwen/QwQ-32B      MATH   \n",
       "2                                                   Qwen/QwQ-32B  SimpleQA   \n",
       "3                                      Qwen/Qwen2.5-72B-Instruct      GAIA   \n",
       "4                                      Qwen/Qwen2.5-72B-Instruct      MATH   \n",
       "5                                      Qwen/Qwen2.5-72B-Instruct  SimpleQA   \n",
       "6                                       Qwen/Qwen2.5-7B-Instruct      GAIA   \n",
       "7                                       Qwen/Qwen2.5-7B-Instruct      MATH   \n",
       "8                                       Qwen/Qwen2.5-7B-Instruct  SimpleQA   \n",
       "9                                Qwen/Qwen2.5-Coder-32B-Instruct      GAIA   \n",
       "10                               Qwen/Qwen2.5-Coder-32B-Instruct      MATH   \n",
       "11                               Qwen/Qwen2.5-Coder-32B-Instruct  SimpleQA   \n",
       "12                                          Qwen/Qwen3-235B-A22B      GAIA   \n",
       "13                                          Qwen/Qwen3-235B-A22B      MATH   \n",
       "14                                          Qwen/Qwen3-235B-A22B  SimpleQA   \n",
       "15                                                Qwen/Qwen3-32B      GAIA   \n",
       "16                                                Qwen/Qwen3-32B      MATH   \n",
       "17                                                Qwen/Qwen3-32B  SimpleQA   \n",
       "18                            anthropic/claude-3-5-sonnet-latest      GAIA   \n",
       "19                            anthropic/claude-3-5-sonnet-latest      MATH   \n",
       "20                            anthropic/claude-3-5-sonnet-latest  SimpleQA   \n",
       "21                          anthropic/claude-3-7-sonnet-20250219      GAIA   \n",
       "22                          anthropic/claude-3-7-sonnet-20250219      MATH   \n",
       "23                          anthropic/claude-3-7-sonnet-20250219  SimpleQA   \n",
       "24                              anthropic/claude-opus-4-20250514      GAIA   \n",
       "25                              anthropic/claude-opus-4-20250514      MATH   \n",
       "26                              anthropic/claude-opus-4-20250514  SimpleQA   \n",
       "27                            anthropic/claude-sonnet-4-20250514      GAIA   \n",
       "28                            anthropic/claude-sonnet-4-20250514      MATH   \n",
       "29                            anthropic/claude-sonnet-4-20250514  SimpleQA   \n",
       "30                                       deepseek-ai/DeepSeek-R1      GAIA   \n",
       "31                                       deepseek-ai/DeepSeek-R1      MATH   \n",
       "32                                       deepseek-ai/DeepSeek-R1  SimpleQA   \n",
       "33                      deepseek-ai/DeepSeek-R1-Distill-Qwen-32B      GAIA   \n",
       "34                      deepseek-ai/DeepSeek-R1-Distill-Qwen-32B      MATH   \n",
       "35                      deepseek-ai/DeepSeek-R1-Distill-Qwen-32B  SimpleQA   \n",
       "36                                               gpt-4.5-preview      GAIA   \n",
       "37                                               gpt-4.5-preview      MATH   \n",
       "38                                               gpt-4.5-preview  SimpleQA   \n",
       "39                                                        gpt-4o      GAIA   \n",
       "40                                                        gpt-4o      MATH   \n",
       "41                                                        gpt-4o  SimpleQA   \n",
       "42                             meta-llama/Llama-3.1-70B-Instruct      GAIA   \n",
       "43                             meta-llama/Llama-3.1-70B-Instruct      MATH   \n",
       "44                             meta-llama/Llama-3.1-70B-Instruct  SimpleQA   \n",
       "45                              meta-llama/Llama-3.1-8B-Instruct      GAIA   \n",
       "46                              meta-llama/Llama-3.1-8B-Instruct      MATH   \n",
       "47                              meta-llama/Llama-3.1-8B-Instruct  SimpleQA   \n",
       "48                              meta-llama/Llama-3.2-3B-Instruct      GAIA   \n",
       "49                              meta-llama/Llama-3.2-3B-Instruct      MATH   \n",
       "50                              meta-llama/Llama-3.2-3B-Instruct  SimpleQA   \n",
       "51                             meta-llama/Llama-3.3-70B-Instruct      GAIA   \n",
       "52                             meta-llama/Llama-3.3-70B-Instruct      MATH   \n",
       "53                             meta-llama/Llama-3.3-70B-Instruct  SimpleQA   \n",
       "54                 meta-llama/Llama-4-Maverick-17B-128E-Instruct      GAIA   \n",
       "55                 meta-llama/Llama-4-Maverick-17B-128E-Instruct      MATH   \n",
       "56                 meta-llama/Llama-4-Maverick-17B-128E-Instruct  SimpleQA   \n",
       "57                     meta-llama/Llama-4-Scout-17B-16E-Instruct      GAIA   \n",
       "58                     meta-llama/Llama-4-Scout-17B-16E-Instruct      MATH   \n",
       "59                     meta-llama/Llama-4-Scout-17B-16E-Instruct  SimpleQA   \n",
       "60                                                            o1      GAIA   \n",
       "61                                                            o1      MATH   \n",
       "62                                                            o1  SimpleQA   \n",
       "63                                                       o3-mini      GAIA   \n",
       "64                                                       o3-mini      MATH   \n",
       "65                                                       o3-mini  SimpleQA   \n",
       "\n",
       "agent_action_type    code  tool-calling  tool_calling  vanilla  \n",
       "0                   37.50           NaN           NaN      NaN  \n",
       "1                   94.00           NaN           NaN      NaN  \n",
       "2                   74.00           NaN           NaN      NaN  \n",
       "3                   28.12           NaN           NaN     6.25  \n",
       "4                   76.00           NaN           NaN    30.00  \n",
       "5                   88.00           NaN           NaN    10.00  \n",
       "6                     NaN           NaN           NaN     3.12  \n",
       "7                     NaN           NaN           NaN    38.00  \n",
       "8                     NaN           NaN           NaN     4.00  \n",
       "9                   21.88         18.75           NaN     3.12  \n",
       "10                  84.00         44.00           NaN    62.00  \n",
       "11                  74.00         58.00           NaN     8.00  \n",
       "12                  15.62           NaN           NaN      NaN  \n",
       "13                  58.00           NaN           NaN      NaN  \n",
       "14                  76.00           NaN           NaN      NaN  \n",
       "15                  25.00           NaN           NaN      NaN  \n",
       "16                  90.00           NaN           NaN      NaN  \n",
       "17                  78.00           NaN           NaN      NaN  \n",
       "18                  56.25           NaN          0.00     3.12  \n",
       "19                  86.00           NaN         54.00    50.00  \n",
       "20                  82.00           NaN          0.00    34.00  \n",
       "21                  50.00           NaN           NaN      NaN  \n",
       "22                  96.00           NaN           NaN      NaN  \n",
       "23                  86.00           NaN           NaN      NaN  \n",
       "24                  59.38           NaN           NaN      NaN  \n",
       "25                  98.00           NaN           NaN      NaN  \n",
       "26                  94.00           NaN           NaN      NaN  \n",
       "27                  56.25           NaN           NaN      NaN  \n",
       "28                 100.00           NaN           NaN      NaN  \n",
       "29                  82.00           NaN           NaN      NaN  \n",
       "30                  50.00           NaN           NaN      NaN  \n",
       "31                  94.00           NaN           NaN      NaN  \n",
       "32                  74.00           NaN           NaN      NaN  \n",
       "33                  31.25         12.50           NaN      NaN  \n",
       "34                  92.00         44.00           NaN      NaN  \n",
       "35                  40.00         48.00           NaN      NaN  \n",
       "36                  56.25           NaN           NaN    15.62  \n",
       "37                  92.00           NaN           NaN    32.00  \n",
       "38                  88.00           NaN           NaN    58.00  \n",
       "39                  34.38           NaN         15.62     3.12  \n",
       "40                  78.00           NaN         58.00    40.00  \n",
       "41                  80.00           NaN         86.00     6.00  \n",
       "42                  15.62         18.75           NaN      NaN  \n",
       "43                  70.00         16.00           NaN      NaN  \n",
       "44                  64.00         18.00           NaN      NaN  \n",
       "45                   0.00          6.25           NaN     0.00  \n",
       "46                  14.00         12.00           NaN    18.00  \n",
       "47                   2.00         12.00           NaN     6.00  \n",
       "48                   3.12           NaN           NaN     0.00  \n",
       "49                  40.00           NaN           NaN    12.00  \n",
       "50                  20.00           NaN           NaN     0.00  \n",
       "51                  31.25           NaN           NaN     3.12  \n",
       "52                  72.00           NaN           NaN    40.00  \n",
       "53                  78.00           NaN           NaN    12.00  \n",
       "54                  46.88           NaN           NaN      NaN  \n",
       "55                  88.00           NaN           NaN      NaN  \n",
       "56                  88.00           NaN           NaN      NaN  \n",
       "57                  25.00           NaN           NaN      NaN  \n",
       "58                  84.00           NaN           NaN      NaN  \n",
       "59                  90.00           NaN           NaN      NaN  \n",
       "60                  50.00           NaN           NaN    18.75  \n",
       "61                  96.00           NaN           NaN    80.00  \n",
       "62                  84.00           NaN           NaN    34.00  \n",
       "63                  46.88           NaN           NaN      NaN  \n",
       "64                  98.00           NaN           NaN      NaN  \n",
       "65                  80.00           NaN           NaN      NaN  "
      ]
     },
     "metadata": {},
     "output_type": "display_data"
    }
   ],
   "source": [
    "pd.set_option(\"display.max_rows\", None)\n",
    "display(pivot_df)"
   ]
  },
  {
   "cell_type": "code",
   "execution_count": 8,
   "metadata": {},
   "outputs": [
    {
     "data": {
      "image/png": "[encoded data removed]",
      "text/plain": [
       "<Figure size 3800x1500 with 1 Axes>"
      ]
     },
     "metadata": {},
     "output_type": "display_data"
    }
   ],
   "source": [
    "import matplotlib.pyplot as plt\n",
    "from matplotlib.legend_handler import HandlerTuple  # Added import\n",
    "\n",
    "\n",
    "# Assuming pivot_df is your original dataframe\n",
    "models = pivot_df[\"model_id\"].unique()\n",
    "sources = pivot_df[\"source\"].unique()\n",
    "\n",
    "# Create figure and axis\n",
    "plt.style.use(\"seaborn-v0_8-white\")\n",
    "fig, ax = plt.subplots(figsize=(38, 15))\n",
    "\n",
    "# Set the width of each bar group and positions of the bars\n",
    "width = 0.15  # width of each bar\n",
    "spacing = 0.02  # space between bars within a group\n",
    "group_spacing = 1  # space between model groups\n",
    "\n",
    "# Calculate positions for the bars\n",
    "num_sources = len(sources)\n",
    "total_width_per_group = (width + spacing) * num_sources * 2  # *2 for agent and vanilla\n",
    "x = np.arange(len(models)) * (total_width_per_group + group_spacing)\n",
    "\n",
    "# Plot bars for each source\n",
    "for i, source in enumerate(sources):\n",
    "    source_data = pivot_df[pivot_df[\"source\"] == source]\n",
    "    agent_scores = [\n",
    "        source_data[source_data[\"model_id\"] == model][\"code\"].values[0]\n",
    "        if len(source_data[source_data[\"model_id\"] == model]) > 0\n",
    "        else np.nan\n",
    "        for model in models\n",
    "    ]\n",
    "    vanilla_scores = [\n",
    "        source_data[source_data[\"model_id\"] == model][\"vanilla\"].values[0]\n",
    "        if len(source_data[source_data[\"model_id\"] == model]) > 0\n",
    "        else np.nan\n",
    "        for model in models\n",
    "    ]\n",
    "\n",
    "    # Position calculation for each pair of bars\n",
    "    pos = x + i * (width * 2 + spacing)\n",
    "\n",
    "    agent_bars = ax.bar(pos, agent_scores, width, label=f\"{source} (Agent)\", alpha=0.8)\n",
    "    vanilla_bars = ax.bar(\n",
    "        pos + width * 0.6,\n",
    "        vanilla_scores,\n",
    "        width,\n",
    "        hatch=\"////\",\n",
    "        alpha=0.5,\n",
    "        hatch_linewidth=2,\n",
    "        label=f\"{source} (Vanilla)\",\n",
    "        color=\"white\",\n",
    "        edgecolor=agent_bars[0].get_facecolor(),\n",
    "    )\n",
    "\n",
    "# Customize the plot\n",
    "ax.set_ylabel(\"Score\")\n",
    "ax.set_title(\"Model Performance Comparison\")\n",
    "\n",
    "# Set x-axis ticks in the middle of each group\n",
    "group_centers = x + (total_width_per_group - spacing) / 2\n",
    "ax.set_xticks(group_centers)\n",
    "\n",
    "# Wrap long model names to prevent overlap\n",
    "wrapped_labels = [\"\\n\".join(model.split(\"/\")) for model in models]\n",
    "ax.set_xticklabels(wrapped_labels, rotation=0, ha=\"center\")\n",
    "\n",
    "# Modify legend to combine agent and vanilla entries\n",
    "handles, labels = ax.get_legend_handles_labels()\n",
    "unique_sources = sources\n",
    "legend_elements = [\n",
    "    (handles[i * 2], handles[i * 2 + 1], labels[i * 2].replace(\" (Agent)\", \"\")) for i in range(len(unique_sources))\n",
    "]\n",
    "custom_legend = ax.legend(\n",
    "    [(agent_handle, vanilla_handle) for agent_handle, vanilla_handle, _ in legend_elements],\n",
    "    [label for _, _, label in legend_elements],\n",
    "    handler_map={tuple: HandlerTuple(ndivide=None)},\n",
    "    bbox_to_anchor=(1.05, 1),\n",
    "    loc=\"upper left\",\n",
    ")\n",
    "\n",
    "for text in custom_legend.get_texts():\n",
    "    current_size = text.get_fontsize()\n",
    "    text.set_fontsize(current_size * 2)\n",
    "\n",
    "ax.yaxis.grid(True, linestyle=\"--\", alpha=0.3)\n",
    "ax.set_ylim(bottom=0)\n",
    "plt.tight_layout()\n",
    "ax.spines[\"top\"].set_visible(False)\n",
    "ax.spines[\"right\"].set_visible(False)\n",
    "\n",
    "plt.savefig(\"model_performance_comparison.png\", bbox_inches=\"tight\", dpi=300)\n",
    "plt.show()"
   ]
  },
  {
   "cell_type": "markdown",
   "metadata": {},
   "source": [
    "## Todos\n",
    "\n",
    "- Run one model on the benchmark, as a sanity check.\n",
    "- Run les modèles de base sur Gaia\n",
    "- Check agents id dans le système prompt.\n",
    "\n",
    "- Run les différents benchmarks et regarder les traces. Voir si jamais erreurs d'implémentation.\n",
    "\n",
    "\n",
    "### Done\n",
    "\n",
    "- Check timeout tools, the 200 first Fibonacchi number (timeout in the interpreter) ; #OK : Timeout at the trajectory level (kill at more than 5 minutes) #OK - Implemented in the run/py function + in the local_python_executor.py file.\n",
    "- Make the decentralization in the tools.py rather that in agents.py\n",
    "- Check if they return well the final answer (is the final_asnwer check is still well implemented or broken ? If yes, reimplement it. For instance, ask to make a tag or a majority vote or global concensus).\n",
    "- Check if they have one tool to show the traces. If not, create one - We decided to use langfuse as a visualisation tool of the trace (json/html format)\n",
    "\n",
    "\n",
    "\n",
    "### Next steps\n",
    "- debug the tests noted in installation.md\n",
    "- Actualize make tests\n",
    "- Create a new score.ipynb\n",
    "- Integrate trl\n",
    "- Réfléchir sur les méthodes de final answer : avoir en tête que l'on veut avoir plusieurs façons de le faire.\n",
    "\n"
   ]
  },
  {
   "cell_type": "markdown",
   "metadata": {},
   "source": [
    "### Meeting of Michal W (July 11th 2025)\n",
    "\n",
    "This dynamic batching for vllm should be integrated in TRL. So far, not much infos.\n",
    "\n",
    "Dynamic batching = run several agents and try to batch their code. The issue is when they send it to the API. One of the issue could be that when we send the old batch, one of the old ...\n",
    "\n",
    "Check the score.ipynb, but with the new model (maybe only a part of this to get time, just for a sanity check)."
   ]
  },
  {
   "cell_type": "markdown",
   "metadata": {},
   "source": [
    "\n",
    "### Web search tools used:\n",
    "\n",
    "The repository uses several implementations of a web_search tool:\n",
    "\n",
    " -   DuckDuckGoSearchTool – relies on the duckduckgo_search library.\n",
    "\n",
    "  -  GoogleSearchTool – queries Google via SerpAPI or Serper using requests and API keys.\n",
    "\n",
    "  -  ApiWebSearchTool – performs searches using Brave’s API.\n",
    "\n",
    " -   WebSearchTool – a general tool that can scrape DuckDuckGo or Bing results with plain HTTP requests.\n",
    "\n",
    "These tools provide markdown-formatted search results for agents in the project."
   ]
  }
 ],
 "metadata": {
  "kernelspec": {
   "display_name": "dec_smolagents",
   "language": "python",
   "name": "python3"
  },
  "language_info": {
   "codemirror_mode": {
    "name": "ipython",
    "version": 3
   },
   "file_extension": ".py",
   "mimetype": "text/x-python",
   "name": "python",
   "nbconvert_exporter": "python",
   "pygments_lexer": "ipython3",
   "version": "3.12.11"
  }
 },
 "nbformat": 4,
 "nbformat_minor": 2
}
